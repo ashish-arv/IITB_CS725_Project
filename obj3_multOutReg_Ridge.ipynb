{
 "cells": [
  {
   "cell_type": "code",
   "execution_count": 1,
   "id": "fe1cc5ee-997f-48e9-bdfd-c3605f9170bf",
   "metadata": {},
   "outputs": [],
   "source": [
    "import os\n",
    "import numpy as np\n",
    "import pandas as pd\n",
    "import matplotlib.pyplot as plt\n",
    "from sklearn.linear_model import Ridge\n",
    "from sklearn.metrics import mean_squared_error, r2_score\n",
    "from sklearn.preprocessing import StandardScaler\n",
    "from skopt import BayesSearchCV\n",
    "from skopt.space import Real\n",
    "import joblib\n",
    "\n",
    "np.set_printoptions(precision=5)"
   ]
  },
  {
   "cell_type": "code",
   "execution_count": 2,
   "id": "bf535ed7",
   "metadata": {},
   "outputs": [],
   "source": [
    "# utility functions:\n",
    "def load_data(directory, datafilename):\n",
    "  f = open(f'{directory}/{datafilename}.csv', 'r')\n",
    "  data = np.array(\n",
    "      [[float(item2) for item2 in item.split(',') if len(item2)>0]\n",
    "       for item in f.read().split('\\n')[1:] if len(item)>0]  # includes the ID column also\n",
    "  )\n",
    "  return data\n",
    "\n",
    "def split_data(data, train_fr, valid_fr):\n",
    "  np.random.seed(1)\n",
    "  np.random.shuffle(data)\n",
    "  train_data = data[:int(data.shape[0]*train_fr), :]\n",
    "  valid_data = data[int(data.shape[0]*train_fr):int(data.shape[0]*(train_fr+valid_fr)), :]\n",
    "  test_data = data[int(data.shape[0]*(train_fr+valid_fr)):, :]\n",
    "  return train_data, valid_data, test_data"
   ]
  },
  {
   "cell_type": "code",
   "execution_count": 3,
   "id": "7110f9e0",
   "metadata": {},
   "outputs": [
    {
     "name": "stdout",
     "output_type": "stream",
     "text": [
      "Fitting 3 folds for each of 5 candidates, totalling 15 fits\n",
      "Fitting 3 folds for each of 5 candidates, totalling 15 fits\n",
      "Fitting 3 folds for each of 5 candidates, totalling 15 fits\n",
      "Fitting 3 folds for each of 5 candidates, totalling 15 fits\n",
      "Fitting 3 folds for each of 5 candidates, totalling 15 fits\n",
      "Fitting 3 folds for each of 5 candidates, totalling 15 fits\n",
      "Fitting 3 folds for each of 5 candidates, totalling 15 fits\n",
      "Fitting 3 folds for each of 5 candidates, totalling 15 fits\n",
      "Fitting 3 folds for each of 5 candidates, totalling 15 fits\n",
      "Fitting 3 folds for each of 5 candidates, totalling 15 fits\n"
     ]
    },
    {
     "data": {
      "text/plain": [
       "['multOutRidge_scaler.joblib']"
      ]
     },
     "execution_count": 3,
     "metadata": {},
     "output_type": "execute_result"
    }
   ],
   "source": [
    "'''\n",
    "training over D7:\n",
    "'''\n",
    "data = load_data(directory='D7', datafilename=f'trainD7')\n",
    "ID_train, X_train, y_train = data[:, 0], data[:, 1:-4], data[:, -4:]\n",
    "\n",
    "\n",
    "scaler = StandardScaler()\n",
    "X_train = scaler.fit_transform(X_train)\n",
    "\n",
    "model = Ridge()\n",
    "param_space = {\n",
    "  'alpha': Real(1e-6, 1e+6, 'log-uniform'),  # default: 1\n",
    "}\n",
    "opt = BayesSearchCV(\n",
    "  estimator=model, search_spaces=param_space, n_iter=50, cv=3,\n",
    "  n_jobs=-1, n_points=5, verbose=3, scoring='neg_mean_squared_error'\n",
    ")\n",
    "opt.fit(X_train, y_train)\n",
    "\n",
    "results_df = pd.DataFrame(opt.cv_results_)\n",
    "results_df.to_csv(f'multOutRidge_optResults.csv', index=False)\n",
    "best_params = opt.best_params_\n",
    "model = Ridge(**best_params)\n",
    "model.fit(X_train, y_train)\n",
    "\n",
    "joblib.dump(model, f'multOutRidge.joblib', compress=3)\n",
    "joblib.dump(scaler, f'multOutRidge_scaler.joblib', compress=3)"
   ]
  },
  {
   "cell_type": "code",
   "execution_count": 6,
   "id": "6ab23d2c",
   "metadata": {},
   "outputs": [
    {
     "name": "stdout",
     "output_type": "stream",
     "text": [
      "\n",
      "Evaluation over D8:\n",
      "Mean Squared Error (raw): [0.0005  0.00022 0.00029 0.00029]\n",
      "Mean Squared Error (combined): 3.25e-04\n",
      "R² Score: 0.9831810121372193\n",
      "\n",
      "Evaluation over D9:\n",
      "Mean Squared Error (raw): [0.0058  0.02377 0.00337 0.00499]\n",
      "Mean Squared Error (combined): 9.48e-03\n",
      "R² Score: 0.5105436675131789\n"
     ]
    }
   ],
   "source": [
    "'''\n",
    "evaluation over D8 and D9:\n",
    "'''\n",
    "\n",
    "model = joblib.load(f'final_multOutRidge.joblib')\n",
    "scaler = joblib.load(f'final_multOutRidge_scaler.joblib')\n",
    "\n",
    "\n",
    "data = load_data(directory='D8', datafilename=f'testD8')\n",
    "ID, X1, y1 = data[:, 0], data[:, 1:-4], data[:, -4:]\n",
    "data = load_data(directory='D9', datafilename=f'testD9')\n",
    "ID, X2, y2 = data[:, 0], data[:, 1:-4], data[:, -4:]\n",
    "\n",
    "X1 = scaler.fit_transform(X1)\n",
    "X2 = scaler.fit_transform(X2)\n",
    "\n",
    "\n",
    "print('\\nEvaluation over D8:')\n",
    "X_test, y_test = X1, y1\n",
    "y_pred = model.predict(X_test)\n",
    "mse_raw = mean_squared_error(y_test, y_pred, multioutput='raw_values')\n",
    "print(f\"Mean Squared Error (raw): {mse_raw}\")\n",
    "mse = mean_squared_error(y_test, y_pred)\n",
    "print(f\"Mean Squared Error (combined): {mse:.2e}\")\n",
    "r2 = r2_score(y_test, y_pred)\n",
    "print(\"R² Score:\", r2)\n",
    "\n",
    "print('\\nEvaluation over D9:')\n",
    "X_test, y_test = X2, y2\n",
    "y_pred = model.predict(X_test)\n",
    "mse_raw = mean_squared_error(y_test, y_pred, multioutput='raw_values')\n",
    "print(f\"Mean Squared Error (raw): {mse_raw}\")\n",
    "mse = mean_squared_error(y_test, y_pred)\n",
    "print(f\"Mean Squared Error (combined): {mse:.2e}\")\n",
    "r2 = r2_score(y_test, y_pred)\n",
    "print(\"R² Score:\", r2)"
   ]
  }
 ],
 "metadata": {
  "kernelspec": {
   "display_name": "iitb_assgmt1",
   "language": "python",
   "name": "python3"
  },
  "language_info": {
   "codemirror_mode": {
    "name": "ipython",
    "version": 3
   },
   "file_extension": ".py",
   "mimetype": "text/x-python",
   "name": "python",
   "nbconvert_exporter": "python",
   "pygments_lexer": "ipython3",
   "version": "3.12.4"
  }
 },
 "nbformat": 4,
 "nbformat_minor": 5
}
