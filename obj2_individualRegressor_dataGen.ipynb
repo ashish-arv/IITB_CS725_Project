{
 "cells": [
  {
   "cell_type": "code",
   "execution_count": 1,
   "metadata": {},
   "outputs": [],
   "source": [
    "import os\n",
    "import numpy as np\n",
    "import matplotlib.pyplot as plt"
   ]
  },
  {
   "cell_type": "code",
   "execution_count": 2,
   "metadata": {},
   "outputs": [],
   "source": [
    "# utilities:\n",
    "def load_spectrum(filename):\n",
    "  number_channels = 1016\n",
    "  # print(f'loading data from : \"{filename}\"')\n",
    "  f = open(filename, 'r')\n",
    "  data = [[float(item2) for item2 in item.split('\\t') if len(item2) > 0]\n",
    "    for item in f.read().split('\\n') if len(item) > 0]\n",
    "  data_unique = set([len(item) for item in data])\n",
    "  if len(data) != number_channels:\n",
    "    print(f'ERROR: Total number of channels is not {number_channels}.')\n",
    "    exit()\n",
    "  elif data_unique == {2} or data_unique == {3}:\n",
    "    energy = np.array([item[0] for item in data])\n",
    "    counts = np.array([item[1] for item in data])\n",
    "    if 'Exp' in filename:\n",
    "      # i.e., if spectrum is NaI generated, normalize w.r.t aquisition time:\n",
    "      aquisition_time = int([item for item in filename.split('_') if 'sec' in item][0].split('sec')[0])\n",
    "      counts = counts/aquisition_time\n",
    "    if data_unique == {2}:\n",
    "      percentage_error = np.empty(energy.shape)*np.nan\n",
    "    elif data_unique == {3}:\n",
    "      percentage_error = np.array([item[1] for item in data])\n",
    "    return energy, counts, percentage_error\n",
    "  else:\n",
    "    print('ERROR: At some point or all, spectrum data format does not match with either \"Energy\\tcounts\" or \"Energy\\tcounts\\tError\".')\n",
    "    exit()\n",
    "  print('ERROR: cannot load spectrum data')\n",
    "  exit()"
   ]
  },
  {
   "cell_type": "code",
   "execution_count": 3,
   "metadata": {},
   "outputs": [],
   "source": [
    "# initialization:\n",
    "class_labels = {\n",
    "  'bkg':   0,\n",
    "  'Ba133': 1,\n",
    "  'Cs137': 2,\n",
    "  'Co60':  3\n",
    "}\n",
    "num_classes = len(class_labels)"
   ]
  },
  {
   "cell_type": "code",
   "execution_count": 4,
   "metadata": {},
   "outputs": [
    {
     "name": "stdout",
     "output_type": "stream",
     "text": [
      "\n",
      " ['D6', 'train']\n"
     ]
    }
   ],
   "source": [
    "for combination in [['D6', 'train']]:\n",
    "  print('\\n', combination)\n",
    "  directory, datafilename = combination[0], combination[1]\n",
    "\n",
    "  rn_tag = 'bkg_Exp_base'\n",
    "  filename = [item for item in os.listdir('base_spectrums') if rn_tag in item][0]\n",
    "  spect0 = load_spectrum(f'base_spectrums/{filename}')\n",
    "\n",
    "  # signal_spectrum:\n",
    "  for RN in [*class_labels][1:]:\n",
    "    csv = []  # to collect produced spectrums\n",
    "    ID = -1\n",
    "\n",
    "    rn_tag = f'{RN}_Exp_base'\n",
    "    filename = [item for item in os.listdir('base_spectrums') if rn_tag in item][0]\n",
    "    spect1 = load_spectrum(f'base_spectrums/{filename}')\n",
    "\n",
    "    # normalize spect w.r.t total counts:\n",
    "    spect0_norm = [spect0[0], spect0[1]/spect0[1].sum(), spect0[2]]\n",
    "    spect1_norm = [spect1[0], spect1[1]/spect1[1].sum(), spect1[2]]\n",
    "\n",
    "    '''\n",
    "    Now,\n",
    "    the SNR (signal to noise mixing ratio) ~ random.uniform(low=0.05, high=1.1)\n",
    "    '''\n",
    "    SNR_list = list(np.random.uniform(low=0.05, high=1.1, size=64))\n",
    "\n",
    "    # the superimposed spetrum:\n",
    "    # energy-wise addition:\n",
    "    for SNR in SNR_list:\n",
    "      counts = spect0_norm[1] + SNR*spect1_norm[1]\n",
    "      spect_norm = [spect0[0], counts/counts.sum(), spect0[2]]\n",
    "      \n",
    "      '''\n",
    "      Now,\n",
    "      the gross count variation:\n",
    "      '''\n",
    "      gross_counts_list = list(np.random.uniform(low=500, high=10000, size=64))\n",
    "\n",
    "      for gross_counts in gross_counts_list:\n",
    "        good_spect = [spect_norm[0], spect_norm[1]*gross_counts, spect_norm[2]]\n",
    "        counts = []\n",
    "        for i in range(len(good_spect[1])):\n",
    "          counts.append(np.random.poisson(lam=good_spect[1][i]))\n",
    "        counts = np.array(counts)\n",
    "        bad_spect_norm = [spect_norm[0], counts/counts.sum(), spect_norm[2]]\n",
    "\n",
    "        ID += 1\n",
    "        csv.append([ID] + [f'{item}' for item in bad_spect_norm[1]] + [SNR] + [gross_counts])\n",
    "\n",
    "    csv = [['ID'] + [f'feature_{item}' for item in range(1016)] + ['SNR'] + ['gross_counts']] + csv\n",
    "\n",
    "    f = open(f'{directory}/{datafilename}{directory}class{class_labels[RN]}_detailed.csv', 'w')\n",
    "    f.write('\\n'.join([','.join([str(item2) for item2 in item]) for item in csv]))\n",
    "    f.close()\n",
    "\n",
    "    f = open(f'{directory}/{datafilename}{directory}class{class_labels[RN]}.csv', 'w')\n",
    "    f.write('\\n'.join([','.join([str(item2) for item2 in item[:-1]]) for item in csv]))\n",
    "    f.close()\n"
   ]
  }
 ],
 "metadata": {
  "kernelspec": {
   "display_name": "iitb_assgmt1",
   "language": "python",
   "name": "python3"
  },
  "language_info": {
   "codemirror_mode": {
    "name": "ipython",
    "version": 3
   },
   "file_extension": ".py",
   "mimetype": "text/x-python",
   "name": "python",
   "nbconvert_exporter": "python",
   "pygments_lexer": "ipython3",
   "version": "3.12.4"
  }
 },
 "nbformat": 4,
 "nbformat_minor": 2
}
