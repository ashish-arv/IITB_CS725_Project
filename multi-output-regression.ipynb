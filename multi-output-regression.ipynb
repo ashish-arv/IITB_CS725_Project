{
 "cells": [
  {
   "cell_type": "code",
   "execution_count": 14,
   "metadata": {
    "execution": {
     "iopub.execute_input": "2024-11-25T15:29:40.576285Z",
     "iopub.status.busy": "2024-11-25T15:29:40.575804Z",
     "iopub.status.idle": "2024-11-25T15:29:40.744697Z",
     "shell.execute_reply": "2024-11-25T15:29:40.742981Z",
     "shell.execute_reply.started": "2024-11-25T15:29:40.576247Z"
    },
    "trusted": true
   },
   "outputs": [],
   "source": [
    "import numpy as np\n",
    "import pandas as pd\n",
    "import matplotlib.pyplot as plt\n",
    "from sklearn.metrics import classification_report, confusion_matrix\n",
    "import seaborn as sns\n",
    "from sklearn.svm import SVR\n",
    "from sklearn.multioutput import MultiOutputRegressor\n",
    "from sklearn.model_selection import train_test_split\n",
    "from sklearn.metrics import mean_squared_error"
   ]
  },
  {
   "cell_type": "code",
   "execution_count": 12,
   "metadata": {
    "execution": {
     "iopub.execute_input": "2024-11-25T15:28:36.673038Z",
     "iopub.status.busy": "2024-11-25T15:28:36.672514Z",
     "iopub.status.idle": "2024-11-25T15:28:38.729824Z",
     "shell.execute_reply": "2024-11-25T15:28:38.728367Z",
     "shell.execute_reply.started": "2024-11-25T15:28:36.672999Z"
    },
    "trusted": true
   },
   "outputs": [
    {
     "data": {
      "text/html": [
       "<div>\n",
       "<style scoped>\n",
       "    .dataframe tbody tr th:only-of-type {\n",
       "        vertical-align: middle;\n",
       "    }\n",
       "\n",
       "    .dataframe tbody tr th {\n",
       "        vertical-align: top;\n",
       "    }\n",
       "\n",
       "    .dataframe thead th {\n",
       "        text-align: right;\n",
       "    }\n",
       "</style>\n",
       "<table border=\"1\" class=\"dataframe\">\n",
       "  <thead>\n",
       "    <tr style=\"text-align: right;\">\n",
       "      <th></th>\n",
       "      <th>ID</th>\n",
       "      <th>feature_0</th>\n",
       "      <th>feature_1</th>\n",
       "      <th>feature_2</th>\n",
       "      <th>feature_3</th>\n",
       "      <th>feature_4</th>\n",
       "      <th>feature_5</th>\n",
       "      <th>feature_6</th>\n",
       "      <th>feature_7</th>\n",
       "      <th>feature_8</th>\n",
       "      <th>...</th>\n",
       "      <th>feature_1010</th>\n",
       "      <th>feature_1011</th>\n",
       "      <th>feature_1012</th>\n",
       "      <th>feature_1013</th>\n",
       "      <th>feature_1014</th>\n",
       "      <th>feature_1015</th>\n",
       "      <th>rf0</th>\n",
       "      <th>rf1</th>\n",
       "      <th>rf2</th>\n",
       "      <th>rf3</th>\n",
       "    </tr>\n",
       "  </thead>\n",
       "  <tbody>\n",
       "    <tr>\n",
       "      <th>0</th>\n",
       "      <td>0</td>\n",
       "      <td>0.007178</td>\n",
       "      <td>0.011771</td>\n",
       "      <td>0.015791</td>\n",
       "      <td>0.018088</td>\n",
       "      <td>0.021246</td>\n",
       "      <td>0.025553</td>\n",
       "      <td>0.020672</td>\n",
       "      <td>0.017227</td>\n",
       "      <td>0.017801</td>\n",
       "      <td>...</td>\n",
       "      <td>0.0</td>\n",
       "      <td>0.0</td>\n",
       "      <td>0.0</td>\n",
       "      <td>0.0</td>\n",
       "      <td>0.0</td>\n",
       "      <td>0.0</td>\n",
       "      <td>0.281934</td>\n",
       "      <td>0.265199</td>\n",
       "      <td>0.177715</td>\n",
       "      <td>0.275152</td>\n",
       "    </tr>\n",
       "    <tr>\n",
       "      <th>1</th>\n",
       "      <td>1</td>\n",
       "      <td>0.008419</td>\n",
       "      <td>0.008419</td>\n",
       "      <td>0.014523</td>\n",
       "      <td>0.017470</td>\n",
       "      <td>0.021048</td>\n",
       "      <td>0.015997</td>\n",
       "      <td>0.018943</td>\n",
       "      <td>0.019154</td>\n",
       "      <td>0.015365</td>\n",
       "      <td>...</td>\n",
       "      <td>0.0</td>\n",
       "      <td>0.0</td>\n",
       "      <td>0.0</td>\n",
       "      <td>0.0</td>\n",
       "      <td>0.0</td>\n",
       "      <td>0.0</td>\n",
       "      <td>0.165689</td>\n",
       "      <td>0.195560</td>\n",
       "      <td>0.332175</td>\n",
       "      <td>0.306575</td>\n",
       "    </tr>\n",
       "    <tr>\n",
       "      <th>2</th>\n",
       "      <td>2</td>\n",
       "      <td>0.011939</td>\n",
       "      <td>0.013076</td>\n",
       "      <td>0.017055</td>\n",
       "      <td>0.019329</td>\n",
       "      <td>0.019329</td>\n",
       "      <td>0.029562</td>\n",
       "      <td>0.016487</td>\n",
       "      <td>0.027857</td>\n",
       "      <td>0.013076</td>\n",
       "      <td>...</td>\n",
       "      <td>0.0</td>\n",
       "      <td>0.0</td>\n",
       "      <td>0.0</td>\n",
       "      <td>0.0</td>\n",
       "      <td>0.0</td>\n",
       "      <td>0.0</td>\n",
       "      <td>0.119015</td>\n",
       "      <td>0.296528</td>\n",
       "      <td>0.303292</td>\n",
       "      <td>0.281165</td>\n",
       "    </tr>\n",
       "    <tr>\n",
       "      <th>3</th>\n",
       "      <td>3</td>\n",
       "      <td>0.010730</td>\n",
       "      <td>0.016095</td>\n",
       "      <td>0.018778</td>\n",
       "      <td>0.022653</td>\n",
       "      <td>0.025633</td>\n",
       "      <td>0.030700</td>\n",
       "      <td>0.026826</td>\n",
       "      <td>0.025335</td>\n",
       "      <td>0.018778</td>\n",
       "      <td>...</td>\n",
       "      <td>0.0</td>\n",
       "      <td>0.0</td>\n",
       "      <td>0.0</td>\n",
       "      <td>0.0</td>\n",
       "      <td>0.0</td>\n",
       "      <td>0.0</td>\n",
       "      <td>0.141007</td>\n",
       "      <td>0.310781</td>\n",
       "      <td>0.293935</td>\n",
       "      <td>0.254277</td>\n",
       "    </tr>\n",
       "    <tr>\n",
       "      <th>4</th>\n",
       "      <td>4</td>\n",
       "      <td>0.012512</td>\n",
       "      <td>0.013667</td>\n",
       "      <td>0.024639</td>\n",
       "      <td>0.032339</td>\n",
       "      <td>0.038499</td>\n",
       "      <td>0.036766</td>\n",
       "      <td>0.036189</td>\n",
       "      <td>0.033109</td>\n",
       "      <td>0.023869</td>\n",
       "      <td>...</td>\n",
       "      <td>0.0</td>\n",
       "      <td>0.0</td>\n",
       "      <td>0.0</td>\n",
       "      <td>0.0</td>\n",
       "      <td>0.0</td>\n",
       "      <td>0.0</td>\n",
       "      <td>0.137465</td>\n",
       "      <td>0.436517</td>\n",
       "      <td>0.284282</td>\n",
       "      <td>0.141736</td>\n",
       "    </tr>\n",
       "  </tbody>\n",
       "</table>\n",
       "<p>5 rows × 1021 columns</p>\n",
       "</div>"
      ],
      "text/plain": [
       "   ID  feature_0  feature_1  feature_2  feature_3  feature_4  feature_5  \\\n",
       "0   0   0.007178   0.011771   0.015791   0.018088   0.021246   0.025553   \n",
       "1   1   0.008419   0.008419   0.014523   0.017470   0.021048   0.015997   \n",
       "2   2   0.011939   0.013076   0.017055   0.019329   0.019329   0.029562   \n",
       "3   3   0.010730   0.016095   0.018778   0.022653   0.025633   0.030700   \n",
       "4   4   0.012512   0.013667   0.024639   0.032339   0.038499   0.036766   \n",
       "\n",
       "   feature_6  feature_7  feature_8  ...  feature_1010  feature_1011  \\\n",
       "0   0.020672   0.017227   0.017801  ...           0.0           0.0   \n",
       "1   0.018943   0.019154   0.015365  ...           0.0           0.0   \n",
       "2   0.016487   0.027857   0.013076  ...           0.0           0.0   \n",
       "3   0.026826   0.025335   0.018778  ...           0.0           0.0   \n",
       "4   0.036189   0.033109   0.023869  ...           0.0           0.0   \n",
       "\n",
       "   feature_1012  feature_1013  feature_1014  feature_1015       rf0       rf1  \\\n",
       "0           0.0           0.0           0.0           0.0  0.281934  0.265199   \n",
       "1           0.0           0.0           0.0           0.0  0.165689  0.195560   \n",
       "2           0.0           0.0           0.0           0.0  0.119015  0.296528   \n",
       "3           0.0           0.0           0.0           0.0  0.141007  0.310781   \n",
       "4           0.0           0.0           0.0           0.0  0.137465  0.436517   \n",
       "\n",
       "        rf2       rf3  \n",
       "0  0.177715  0.275152  \n",
       "1  0.332175  0.306575  \n",
       "2  0.303292  0.281165  \n",
       "3  0.293935  0.254277  \n",
       "4  0.284282  0.141736  \n",
       "\n",
       "[5 rows x 1021 columns]"
      ]
     },
     "execution_count": 12,
     "metadata": {},
     "output_type": "execute_result"
    }
   ],
   "source": [
    "#Load the train data into dataframe\n",
    "df=pd.read_csv(\"/kaggle/input/mult-train/trainD7.csv\")\n",
    "df.head()\n"
   ]
  },
  {
   "cell_type": "code",
   "execution_count": 13,
   "metadata": {
    "execution": {
     "iopub.execute_input": "2024-11-25T15:28:51.889485Z",
     "iopub.status.busy": "2024-11-25T15:28:51.888968Z",
     "iopub.status.idle": "2024-11-25T15:28:51.930624Z",
     "shell.execute_reply": "2024-11-25T15:28:51.929064Z",
     "shell.execute_reply.started": "2024-11-25T15:28:51.889433Z"
    },
    "trusted": true
   },
   "outputs": [],
   "source": [
    "#Since we need to ignore id and the last 4 are output vectors\n",
    "X_train=df.iloc[:,1:-4]\n",
    "Y_train=df.iloc[:,-4:]"
   ]
  },
  {
   "cell_type": "code",
   "execution_count": 16,
   "metadata": {
    "execution": {
     "iopub.execute_input": "2024-11-25T15:32:23.707310Z",
     "iopub.status.busy": "2024-11-25T15:32:23.706720Z",
     "iopub.status.idle": "2024-11-25T15:32:27.799287Z",
     "shell.execute_reply": "2024-11-25T15:32:27.796906Z",
     "shell.execute_reply.started": "2024-11-25T15:32:23.707265Z"
    },
    "trusted": true
   },
   "outputs": [],
   "source": [
    "test1=pd.read_csv(\"/kaggle/input/data-test/testD8.csv\")\n",
    "test2=pd.read_csv(\"/kaggle/input/data-test/testD9.csv\")\n",
    "X_test1=test1.iloc[:,1:-4]\n",
    "X_test2=test2.iloc[:,1:-4]\n",
    "Y_test1=test1.iloc[:,-4:]\n",
    "Y_test2=test2.iloc[:,-4:]"
   ]
  },
  {
   "cell_type": "code",
   "execution_count": 15,
   "metadata": {
    "execution": {
     "iopub.execute_input": "2024-11-25T15:30:03.727075Z",
     "iopub.status.busy": "2024-11-25T15:30:03.726033Z",
     "iopub.status.idle": "2024-11-25T15:30:05.999329Z",
     "shell.execute_reply": "2024-11-25T15:30:05.998055Z",
     "shell.execute_reply.started": "2024-11-25T15:30:03.727029Z"
    },
    "trusted": true
   },
   "outputs": [
    {
     "data": {
      "text/html": [
       "<style>#sk-container-id-1 {color: black;background-color: white;}#sk-container-id-1 pre{padding: 0;}#sk-container-id-1 div.sk-toggleable {background-color: white;}#sk-container-id-1 label.sk-toggleable__label {cursor: pointer;display: block;width: 100%;margin-bottom: 0;padding: 0.3em;box-sizing: border-box;text-align: center;}#sk-container-id-1 label.sk-toggleable__label-arrow:before {content: \"▸\";float: left;margin-right: 0.25em;color: #696969;}#sk-container-id-1 label.sk-toggleable__label-arrow:hover:before {color: black;}#sk-container-id-1 div.sk-estimator:hover label.sk-toggleable__label-arrow:before {color: black;}#sk-container-id-1 div.sk-toggleable__content {max-height: 0;max-width: 0;overflow: hidden;text-align: left;background-color: #f0f8ff;}#sk-container-id-1 div.sk-toggleable__content pre {margin: 0.2em;color: black;border-radius: 0.25em;background-color: #f0f8ff;}#sk-container-id-1 input.sk-toggleable__control:checked~div.sk-toggleable__content {max-height: 200px;max-width: 100%;overflow: auto;}#sk-container-id-1 input.sk-toggleable__control:checked~label.sk-toggleable__label-arrow:before {content: \"▾\";}#sk-container-id-1 div.sk-estimator input.sk-toggleable__control:checked~label.sk-toggleable__label {background-color: #d4ebff;}#sk-container-id-1 div.sk-label input.sk-toggleable__control:checked~label.sk-toggleable__label {background-color: #d4ebff;}#sk-container-id-1 input.sk-hidden--visually {border: 0;clip: rect(1px 1px 1px 1px);clip: rect(1px, 1px, 1px, 1px);height: 1px;margin: -1px;overflow: hidden;padding: 0;position: absolute;width: 1px;}#sk-container-id-1 div.sk-estimator {font-family: monospace;background-color: #f0f8ff;border: 1px dotted black;border-radius: 0.25em;box-sizing: border-box;margin-bottom: 0.5em;}#sk-container-id-1 div.sk-estimator:hover {background-color: #d4ebff;}#sk-container-id-1 div.sk-parallel-item::after {content: \"\";width: 100%;border-bottom: 1px solid gray;flex-grow: 1;}#sk-container-id-1 div.sk-label:hover label.sk-toggleable__label {background-color: #d4ebff;}#sk-container-id-1 div.sk-serial::before {content: \"\";position: absolute;border-left: 1px solid gray;box-sizing: border-box;top: 0;bottom: 0;left: 50%;z-index: 0;}#sk-container-id-1 div.sk-serial {display: flex;flex-direction: column;align-items: center;background-color: white;padding-right: 0.2em;padding-left: 0.2em;position: relative;}#sk-container-id-1 div.sk-item {position: relative;z-index: 1;}#sk-container-id-1 div.sk-parallel {display: flex;align-items: stretch;justify-content: center;background-color: white;position: relative;}#sk-container-id-1 div.sk-item::before, #sk-container-id-1 div.sk-parallel-item::before {content: \"\";position: absolute;border-left: 1px solid gray;box-sizing: border-box;top: 0;bottom: 0;left: 50%;z-index: -1;}#sk-container-id-1 div.sk-parallel-item {display: flex;flex-direction: column;z-index: 1;position: relative;background-color: white;}#sk-container-id-1 div.sk-parallel-item:first-child::after {align-self: flex-end;width: 50%;}#sk-container-id-1 div.sk-parallel-item:last-child::after {align-self: flex-start;width: 50%;}#sk-container-id-1 div.sk-parallel-item:only-child::after {width: 0;}#sk-container-id-1 div.sk-dashed-wrapped {border: 1px dashed gray;margin: 0 0.4em 0.5em 0.4em;box-sizing: border-box;padding-bottom: 0.4em;background-color: white;}#sk-container-id-1 div.sk-label label {font-family: monospace;font-weight: bold;display: inline-block;line-height: 1.2em;}#sk-container-id-1 div.sk-label-container {text-align: center;}#sk-container-id-1 div.sk-container {/* jupyter's `normalize.less` sets `[hidden] { display: none; }` but bootstrap.min.css set `[hidden] { display: none !important; }` so we also need the `!important` here to be able to override the default hidden behavior on the sphinx rendered scikit-learn.org. See: https://github.com/scikit-learn/scikit-learn/issues/21755 */display: inline-block !important;position: relative;}#sk-container-id-1 div.sk-text-repr-fallback {display: none;}</style><div id=\"sk-container-id-1\" class=\"sk-top-container\"><div class=\"sk-text-repr-fallback\"><pre>MultiOutputRegressor(estimator=SVR())</pre><b>In a Jupyter environment, please rerun this cell to show the HTML representation or trust the notebook. <br />On GitHub, the HTML representation is unable to render, please try loading this page with nbviewer.org.</b></div><div class=\"sk-container\" hidden><div class=\"sk-item sk-dashed-wrapped\"><div class=\"sk-label-container\"><div class=\"sk-label sk-toggleable\"><input class=\"sk-toggleable__control sk-hidden--visually\" id=\"sk-estimator-id-1\" type=\"checkbox\" ><label for=\"sk-estimator-id-1\" class=\"sk-toggleable__label sk-toggleable__label-arrow\">MultiOutputRegressor</label><div class=\"sk-toggleable__content\"><pre>MultiOutputRegressor(estimator=SVR())</pre></div></div></div><div class=\"sk-parallel\"><div class=\"sk-parallel-item\"><div class=\"sk-item\"><div class=\"sk-label-container\"><div class=\"sk-label sk-toggleable\"><input class=\"sk-toggleable__control sk-hidden--visually\" id=\"sk-estimator-id-2\" type=\"checkbox\" ><label for=\"sk-estimator-id-2\" class=\"sk-toggleable__label sk-toggleable__label-arrow\">estimator: SVR</label><div class=\"sk-toggleable__content\"><pre>SVR()</pre></div></div></div><div class=\"sk-serial\"><div class=\"sk-item\"><div class=\"sk-estimator sk-toggleable\"><input class=\"sk-toggleable__control sk-hidden--visually\" id=\"sk-estimator-id-3\" type=\"checkbox\" ><label for=\"sk-estimator-id-3\" class=\"sk-toggleable__label sk-toggleable__label-arrow\">SVR</label><div class=\"sk-toggleable__content\"><pre>SVR()</pre></div></div></div></div></div></div></div></div></div></div>"
      ],
      "text/plain": [
       "MultiOutputRegressor(estimator=SVR())"
      ]
     },
     "execution_count": 15,
     "metadata": {},
     "output_type": "execute_result"
    }
   ],
   "source": [
    "svr = SVR(kernel='rbf')\n",
    "multi_output_model = MultiOutputRegressor(svr)\n",
    "multi_output_model.fit(X_train, Y_train)"
   ]
  },
  {
   "cell_type": "code",
   "execution_count": 22,
   "metadata": {
    "execution": {
     "iopub.execute_input": "2024-11-25T15:35:38.091713Z",
     "iopub.status.busy": "2024-11-25T15:35:38.091028Z",
     "iopub.status.idle": "2024-11-25T15:35:39.489351Z",
     "shell.execute_reply": "2024-11-25T15:35:39.487000Z",
     "shell.execute_reply.started": "2024-11-25T15:35:38.091505Z"
    },
    "trusted": true
   },
   "outputs": [
    {
     "name": "stdout",
     "output_type": "stream",
     "text": [
      "0.03253086914126339\n"
     ]
    }
   ],
   "source": [
    "y_pred_svr2 = multi_output_model.predict(X_test2)\n",
    "\n",
    "mse = mean_squared_error(Y_test2, y_pred_svr2)\n",
    "print(mse)"
   ]
  },
  {
   "cell_type": "code",
   "execution_count": 23,
   "metadata": {
    "execution": {
     "iopub.execute_input": "2024-11-25T15:35:39.492853Z",
     "iopub.status.busy": "2024-11-25T15:35:39.492163Z",
     "iopub.status.idle": "2024-11-25T15:35:40.933025Z",
     "shell.execute_reply": "2024-11-25T15:35:40.931728Z",
     "shell.execute_reply.started": "2024-11-25T15:35:39.492788Z"
    },
    "trusted": true
   },
   "outputs": [
    {
     "name": "stdout",
     "output_type": "stream",
     "text": [
      "0.0015880029188911305\n"
     ]
    }
   ],
   "source": [
    "y_pred_svr1 = multi_output_model.predict(X_test1)\n",
    "\n",
    "mse = mean_squared_error(Y_test1, y_pred_svr1)\n",
    "print(mse)"
   ]
  },
  {
   "cell_type": "code",
   "execution_count": null,
   "metadata": {
    "trusted": true
   },
   "outputs": [],
   "source": []
  }
 ],
 "metadata": {
  "kaggle": {
   "accelerator": "none",
   "dataSources": [
    {
     "datasetId": 6162880,
     "sourceId": 10010669,
     "sourceType": "datasetVersion"
    },
    {
     "datasetId": 6162891,
     "sourceId": 10010686,
     "sourceType": "datasetVersion"
    }
   ],
   "dockerImageVersionId": 30786,
   "isGpuEnabled": false,
   "isInternetEnabled": false,
   "language": "python",
   "sourceType": "notebook"
  },
  "kernelspec": {
   "display_name": "Python 3",
   "language": "python",
   "name": "python3"
  },
  "language_info": {
   "codemirror_mode": {
    "name": "ipython",
    "version": 3
   },
   "file_extension": ".py",
   "mimetype": "text/x-python",
   "name": "python",
   "nbconvert_exporter": "python",
   "pygments_lexer": "ipython3",
   "version": "3.10.14"
  }
 },
 "nbformat": 4,
 "nbformat_minor": 4
}
