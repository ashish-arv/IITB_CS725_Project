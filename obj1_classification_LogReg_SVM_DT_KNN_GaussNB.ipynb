{
 "cells": [
  {
   "cell_type": "code",
   "execution_count": null,
   "metadata": {
    "vscode": {
     "languageId": "plaintext"
    }
   },
   "outputs": [],
   "source": [
    "import numpy as np\n",
    "import pandas as pd\n",
    "from sklearn.preprocessing import StandardScaler\n",
    "from sklearn.linear_model import LogisticRegression\n",
    "from sklearn.tree import DecisionTreeClassifier\n",
    "from sklearn.ensemble import RandomForestClassifier, GradientBoostingClassifier, AdaBoostClassifier\n",
    "from sklearn.naive_bayes import GaussianNB\n",
    "from sklearn.neighbors import KNeighborsClassifier\n",
    "from sklearn.svm import SVC\n",
    "from sklearn.neural_network import MLPClassifier\n",
    "from skopt.space import Real\n",
    "from skopt.space import Integer\n",
    "import joblib"
   ]
  },
  {
   "cell_type": "code",
   "execution_count": null,
   "metadata": {
    "vscode": {
     "languageId": "plaintext"
    }
   },
   "outputs": [],
   "source": [
    "model_tag = 'LogReg'"
   ]
  },
  {
   "cell_type": "code",
   "execution_count": null,
   "metadata": {
    "vscode": {
     "languageId": "plaintext"
    }
   },
   "outputs": [],
   "source": [
    "data = load_data(directory='D0', datafilename=f'trainD0')\n",
    "ID_train, X_train, y_train = data[:, 0].astype(int), data[:, 1:-1], data[:, -1]\n",
    "\n",
    "\n",
    "scaler = StandardScaler()\n",
    "X_train = scaler.fit_transform(X_train)\n",
    "\n",
    "\n",
    "# hyperparameter space::\n",
    "if model_tag == 'LogReg':\n",
    "  model = LogisticRegression()\n",
    "  param_space = {\n",
    "    'C': Real(1e-6, 1e+6, 'log-uniform'),  # default=1.0\n",
    "    'solver': ['lbfgs', 'newton-cg', 'sag', 'saga'],  # default=lbfgs\n",
    "  }\n",
    "#   \n",
    "if model_tag == 'DT':\n",
    "  model = DecisionTreeClassifier()\n",
    "  param_space = {\n",
    "    'criterion': ['gini', 'entropy', 'log_loss'],  # default: 'gini'\n",
    "    'splitter': ['best', 'random'],  # default: 'best'\n",
    "    'min_samples_split': Integer(2, 100),  # default: 2\n",
    "    'min_samples_leaf': Integer(2, 100)  # default: 1\n",
    "  }\n",
    "# \n",
    "if model_tag == 'GaussNB':\n",
    "  model = GaussianNB()\n",
    "  param_space = {\n",
    "    'var_smoothing': Real(1e-12, 1e-7, 'log-uniform'),  # default: 1e-9\n",
    "  }\n",
    "# \n",
    "if model_tag == 'KNN':\n",
    "  model = KNeighborsClassifier()\n",
    "  param_space = {\n",
    "    'n_neighbors': Integer(1, 50),  # default: 5\n",
    "    # 'weights': ['uniform', 'distance'],  # default: uniform\n",
    "    # 'algorithm': ['auto', 'ball_tree', 'kd_tree', 'brute']  #default=’auto’\n",
    "  }\n",
    "# \n",
    "if model_tag == 'SVM':\n",
    "  model = SVC()\n",
    "  param_space = {\n",
    "    'C': Real(1e-6, 1e+6, 'log-uniform'),  # default: 1\n",
    "    'kernel': ['linear', 'rbf', 'poly', 'sigmoid']  #default: rbf\n",
    "  }\n",
    "\n",
    "# hyperparam optimization:\n",
    "opt = BayesSearchCV(\n",
    "  estimator=model, search_spaces=param_space, n_iter=100, cv=3,\n",
    "  n_jobs=-1, n_points=5, verbose=3, scoring='neg_mean_squared_error'\n",
    ")\n",
    "opt.fit(X_train, y_train)\n",
    "\n",
    "results_df = pd.DataFrame(opt.cv_results_)\n",
    "results_df.to_csv(f'{model_tag}_optResults.csv', index=False)\n",
    "best_params = opt.best_params_\n",
    "model = Ridge(**best_params)\n",
    "model.fit(X_train, y_train)\n",
    "\n",
    "joblib.dump(model, f'{model_tag}.joblib', compress=3)\n",
    "joblib.dump(scaler, f'{model_tag}_scaler.joblib', compress=3)"
   ]
  },
  {
   "cell_type": "code",
   "execution_count": null,
   "metadata": {
    "vscode": {
     "languageId": "plaintext"
    }
   },
   "outputs": [],
   "source": [
    "results = []\n",
    "\n",
    "model = joblib.load(f'{model_tag}.joblib')\n",
    "scaler = joblib.load(f'{model_tag}_scaler.joblib')\n",
    "\n",
    "results += ut.test_allDatasets(model, scalar)\n",
    "\n",
    "f = open('classification_AllExceptNN_results.txt', 'w')\n",
    "f.write('\\n'.join(['\\t'.join([str(item2) for item2 in item]) for item in results]))\n",
    "f.close()"
   ]
  }
 ],
 "metadata": {
  "language_info": {
   "name": "python"
  }
 },
 "nbformat": 4,
 "nbformat_minor": 2
}
